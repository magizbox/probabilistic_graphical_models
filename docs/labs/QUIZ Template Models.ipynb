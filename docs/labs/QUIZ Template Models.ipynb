{
 "cells": [
  {
   "cell_type": "markdown",
   "metadata": {},
   "source": [
    "# Template Models"
   ]
  },
  {
   "cell_type": "markdown",
   "metadata": {},
   "source": [
    "**1. Markov Assumption.**\n",
    "\n",
    "If a dynamic system X satisfies the Markov assumption for all time t≥0, which of the following statements must be true? You may select 1 or more options.\n",
    "\n",
    "* $(X^{(t+1)}⊥X^{(0:(t−1))}|X^{(t)})$\n",
    "\n",
    "* $(X^{(t+1)}⊥X^{(t)})$\n",
    "\n",
    "* $(X^{(t+1)}⊥X^{(t)}|X^{(t−1)})$"
   ]
  },
  {
   "cell_type": "markdown",
   "metadata": {},
   "source": [
    "**2. Independencies in DBNs.**\n",
    "\n",
    "In the following DBN, which of the following independence assumptions are true? You may select 1 or more options.\n",
    "\n",
    "![](https://d3c33hcgiwev3.cloudfront.net/imageAssetProxy.v1/22pi4wMuEeaaqg5MSeYjIQ_e549c3e6d66227ab0d41eef4d3b0e17e_Template-Models-Q2.png?expiry=1478131200000&hmac=46vUf7-sLtwu3_y13cu5odZOqv5lPM9xPxKq-h4gWnA)\n",
    "\n",
    "* $(X^{(t−1)}⊥X^{(t+1)}∣X^{(t)})$\n",
    "\n",
    "* $(X^{(t+1)}⊥X^{(t)}∣X^{(t−1)})$\n",
    "\n",
    "* $(X^{(t)}⊥X^{(t−1)})$\n",
    "\n",
    "* $(O^{(t)}⊥O^{(t−1)})$"
   ]
  },
  {
   "cell_type": "markdown",
   "metadata": {},
   "source": [
    "**3. Applications of DBNs.**\n",
    "\n",
    "For which of the following applications might one use a DBN (i.e. the Markov assumption is satisfied)? You may select 1 or more options.\n",
    "\n",
    "* Predicting the probability that today will be a snow day (school will be closed because of the snow), when this probability depends only on whether yesterday was a snow day.\n",
    "* Modeling time-series data, where the events at each time-point are influenced by only the events at the one time-point directly before it\n",
    "* Predicting the probability that today will be a snow day (school will be closed because of the snow), when this probability depends only on whether yesterday, the day before yesterday, and 2 Mondays ago were snow days.\n",
    "* Modeling data taken at different locations along a road, where the data at each location is influenced by the data at many other locations."
   ]
  },
  {
   "cell_type": "markdown",
   "metadata": {},
   "source": [
    "**4. Plate Semantics.**\n",
    "\n",
    "\"Let A and B be random variables inside a common plate indexed by i. Which of the following statements must be true? You may select 1 or more options.\n",
    "\n",
    "* For each i, A(i) and B(i) are independent.\n",
    "\n",
    "* For each i, A(i) and B(i) have edges connecting them to the same variables outside of the plate.\n",
    "\n",
    "* For each i, A(i) and B(i) are not independent.\n",
    "\n",
    "* There is an instance of A and an instance of B for every i."
   ]
  },
  {
   "cell_type": "markdown",
   "metadata": {},
   "source": [
    "**5. *Plate Interpretation.**\n",
    "\n",
    "Consider the plate model below (with edges removed). Which of the following might a given instance of X possibly represent in the grounded model? (You may select 1 or more options. Keep in mind that this question addresses the variable's semantics, not its CPD.)\n",
    "\n",
    "![](https://d3c33hcgiwev3.cloudfront.net/imageAssetProxy.v1/8BkPF1W-Eea3kBK2xkPy7w_12651890a4cffae73d50a0864b2a3ace_Screen-Shot-2016-07-29-at-12.01.44-PM.png?expiry=1478131200000&hmac=b2qLQlAPkl2086t-RYn4QJSf4gizemqJPPL-hYNaiiI)\n",
    "\n",
    "* None of these options can represent X in the grounded model\n",
    "* Whether a specific teacher T is a tough grader\n",
    "* Whether someone with expertise E taught something of difficulty D at a place in location L\n",
    "* Whether a specific teacher T taught a specific course C at school S\n",
    "* Whether someone with expertise E taught something of difficulty D at school S"
   ]
  },
  {
   "cell_type": "markdown",
   "metadata": {},
   "source": [
    "**6. Grounded Plates.**\n",
    "\n",
    "Using the same plate model, now assume that there are s schools, t teachers in each school, and c courses taught by each teacher. How many instances of the Expertise variable are there?\n",
    "\n",
    "* $stc$\n",
    "* $s$\n",
    "* $t$\n",
    "* $st$"
   ]
  },
  {
   "cell_type": "markdown",
   "metadata": {},
   "source": [
    "**7. Template Models.**\n",
    "\n",
    "Consider the plate model shown below. Assume we are given $K$ Markets, $L$ Products, $M$ Consumers and $N$ Locations. What is the total number of instances of the variable $P$ in the grounded BN?\n",
    "\n",
    "![](https://d3c33hcgiwev3.cloudfront.net/imageAssetProxy.v1/wWPhGFXHEeaztg6Pg6w09w_0cd0289043095b37016f25ea3a6fa641_Screen-Shot-2016-07-29-at-1.04.54-PM.png?expiry=1478131200000&hmac=jD4VufTkiI6Iw8qfSVlhhvLsEEUfHou6DG4dnNcVmjs)\n",
    "\n",
    "* $K⋅L⋅M$\n",
    "* $K⋅(L+M)$\n",
    "* $L⋅M$\n",
    "* $(L⋅M)^K$"
   ]
  },
  {
   "cell_type": "markdown",
   "metadata": {},
   "source": [
    "**8. Template Models.**\n",
    "\n",
    "Consider the plate model from the previous question. What might P represent?\n",
    "\n",
    "* Whether a specific product PROD was consumed by consumer C in market M\n",
    "* Whether a specific product PROD was consumed by consumer C in all markets\n",
    "* Whether a specific product of brand q was consumed by a consumer with age t in a market of type m that is in location a\n",
    "* Whether a specific product PROD was consumed by consumer C in market M in location L"
   ]
  },
  {
   "cell_type": "markdown",
   "metadata": {},
   "source": [
    "**9. Time-Series Graphs.**\n",
    "\n",
    "Which of the time-series graphs satisfies the Markov assumption? You may select 1 or more options.\n",
    "\n",
    "* (a)\n",
    "* (b)\n",
    "* (c)"
   ]
  },
  {
   "cell_type": "markdown",
   "metadata": {},
   "source": [
    "**10. *Unrolling DBNs.**\n",
    "\n",
    "Below are 2-TBNs that could be unrolled into DBNs. Consider these unrolled DBNs (note that there are no edges within the first time-point). In which of them will $(X^{(t)}⊥Z^{(t)}∣Y^{(t)})$ hold for all t, assuming $Obs^{(t)}$ is observed for all $t$ and $X^{(t)}$ and $Z^{(t)}$ are never observed? You may select 1 or more options.\n",
    "\n",
    "Hint: Unroll these 2-TBNs into DBNs that are at least 3 time steps long (i.e., involving variables from $t−1,t,t+1$).\n",
    "\n",
    "![](https://d3c33hcgiwev3.cloudfront.net/imageAssetProxy.v1/AAOt91XIEeaqTxIkdCEfsw_1a1c575c79d88a70973ce889eaafab1e_Screen-Shot-2016-07-29-at-1.06.43-PM.png?expiry=1478131200000&hmac=Jte3UbudNJ3Wpf91J3J7NZ7q6qMfUzFkG9CnlV2rIj8)\n",
    "\n",
    "* (a)\n",
    "* (b)\n",
    "* (c)"
   ]
  }
 ],
 "metadata": {
  "kernelspec": {
   "display_name": "Python 2",
   "language": "python",
   "name": "python2"
  },
  "language_info": {
   "codemirror_mode": {
    "name": "ipython",
    "version": 2
   },
   "file_extension": ".py",
   "mimetype": "text/x-python",
   "name": "python",
   "nbconvert_exporter": "python",
   "pygments_lexer": "ipython2",
   "version": "2.7.11"
  }
 },
 "nbformat": 4,
 "nbformat_minor": 0
}
