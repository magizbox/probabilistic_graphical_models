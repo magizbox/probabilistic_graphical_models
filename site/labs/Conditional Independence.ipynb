{
 "cells": [
  {
   "cell_type": "code",
   "execution_count": 15,
   "metadata": {
    "collapsed": true
   },
   "outputs": [],
   "source": [
    "from IPython.display import display, HTML"
   ]
  },
  {
   "cell_type": "code",
   "execution_count": 16,
   "metadata": {
    "collapsed": false
   },
   "outputs": [
    {
     "data": {
      "text/html": [
       "<table border=\"1\" class=\"dataframe\">\n",
       "  <thead>\n",
       "    <tr style=\"text-align: right;\">\n",
       "      <th>D</th>\n",
       "      <th>G</th>\n",
       "      <th>I</th>\n",
       "      <th>Prob</th>\n",
       "    </tr>\n",
       "  </thead>\n",
       "  <tbody>\n",
       "    <tr>\n",
       "      <td>d0</td>\n",
       "      <td>g1</td>\n",
       "      <td>i0</td>\n",
       "      <td>0.1260</td>\n",
       "    </tr>\n",
       "    <tr>\n",
       "      <td>d0</td>\n",
       "      <td>g2</td>\n",
       "      <td>i0</td>\n",
       "      <td>0.1680</td>\n",
       "    </tr>\n",
       "    <tr>\n",
       "      <td>d0</td>\n",
       "      <td>g3</td>\n",
       "      <td>i0</td>\n",
       "      <td>0.1260</td>\n",
       "    </tr>\n",
       "    <tr>\n",
       "      <td>d1</td>\n",
       "      <td>g1</td>\n",
       "      <td>i0</td>\n",
       "      <td>0.0090</td>\n",
       "    </tr>\n",
       "    <tr>\n",
       "      <td>d1</td>\n",
       "      <td>g2</td>\n",
       "      <td>i0</td>\n",
       "      <td>0.0450</td>\n",
       "    </tr>\n",
       "    <tr>\n",
       "      <td>d1</td>\n",
       "      <td>g3</td>\n",
       "      <td>i0</td>\n",
       "      <td>0.1260</td>\n",
       "    </tr>\n",
       "    <tr>\n",
       "      <td>d0</td>\n",
       "      <td>g1</td>\n",
       "      <td>i1</td>\n",
       "      <td>0.2520</td>\n",
       "    </tr>\n",
       "    <tr>\n",
       "      <td>d0</td>\n",
       "      <td>g2</td>\n",
       "      <td>i1</td>\n",
       "      <td>0.0224</td>\n",
       "    </tr>\n",
       "    <tr>\n",
       "      <td>d0</td>\n",
       "      <td>g3</td>\n",
       "      <td>i1</td>\n",
       "      <td>0.0056</td>\n",
       "    </tr>\n",
       "    <tr>\n",
       "      <td>d1</td>\n",
       "      <td>g1</td>\n",
       "      <td>i1</td>\n",
       "      <td>0.0600</td>\n",
       "    </tr>\n",
       "    <tr>\n",
       "      <td>d1</td>\n",
       "      <td>g2</td>\n",
       "      <td>i1</td>\n",
       "      <td>0.0360</td>\n",
       "    </tr>\n",
       "    <tr>\n",
       "      <td>d1</td>\n",
       "      <td>g3</td>\n",
       "      <td>i1</td>\n",
       "      <td>0.0240</td>\n",
       "    </tr>\n",
       "  </tbody>\n",
       "</table>"
      ],
      "text/plain": [
       "<IPython.core.display.HTML object>"
      ]
     },
     "metadata": {},
     "output_type": "display_data"
    }
   ],
   "source": [
    "import pandas as pd\n",
    "IDG = pd.DataFrame([\n",
    "        {\"I\":\"i0\", \"D\": \"d0\", \"G\": \"g1\", \"Prob\": 0.126},\n",
    "        {\"I\":\"i0\", \"D\": \"d0\", \"G\": \"g2\", \"Prob\": 0.168},\n",
    "        {\"I\":\"i0\", \"D\": \"d0\", \"G\": \"g3\", \"Prob\": 0.126},\n",
    "        {\"I\":\"i0\", \"D\": \"d1\", \"G\": \"g1\", \"Prob\": 0.009},\n",
    "        {\"I\":\"i0\", \"D\": \"d1\", \"G\": \"g2\", \"Prob\": 0.045},\n",
    "        {\"I\":\"i0\", \"D\": \"d1\", \"G\": \"g3\", \"Prob\": 0.126},\n",
    "        {\"I\":\"i1\", \"D\": \"d0\", \"G\": \"g1\", \"Prob\": 0.252},\n",
    "        {\"I\":\"i1\", \"D\": \"d0\", \"G\": \"g2\", \"Prob\": 0.0224},\n",
    "        {\"I\":\"i1\", \"D\": \"d0\", \"G\": \"g3\", \"Prob\": 0.0056},\n",
    "        {\"I\":\"i1\", \"D\": \"d1\", \"G\": \"g1\", \"Prob\": 0.06},\n",
    "        {\"I\":\"i1\", \"D\": \"d1\", \"G\": \"g2\", \"Prob\": 0.036},\n",
    "        {\"I\":\"i1\", \"D\": \"d1\", \"G\": \"g3\", \"Prob\": 0.024},\n",
    "    ])\n",
    "display(HTML(IDG.to_html(index=False)))"
   ]
  },
  {
   "cell_type": "code",
   "execution_count": 17,
   "metadata": {
    "collapsed": false
   },
   "outputs": [
    {
     "data": {
      "text/html": [
       "<div>\n",
       "<table border=\"1\" class=\"dataframe\">\n",
       "  <thead>\n",
       "    <tr style=\"text-align: right;\">\n",
       "      <th></th>\n",
       "      <th>D</th>\n",
       "      <th>I</th>\n",
       "      <th>Prob</th>\n",
       "    </tr>\n",
       "  </thead>\n",
       "  <tbody>\n",
       "    <tr>\n",
       "      <th>0</th>\n",
       "      <td>d0</td>\n",
       "      <td>i0</td>\n",
       "      <td>0.42</td>\n",
       "    </tr>\n",
       "    <tr>\n",
       "      <th>1</th>\n",
       "      <td>d0</td>\n",
       "      <td>i1</td>\n",
       "      <td>0.28</td>\n",
       "    </tr>\n",
       "    <tr>\n",
       "      <th>2</th>\n",
       "      <td>d1</td>\n",
       "      <td>i0</td>\n",
       "      <td>0.18</td>\n",
       "    </tr>\n",
       "    <tr>\n",
       "      <th>3</th>\n",
       "      <td>d1</td>\n",
       "      <td>i1</td>\n",
       "      <td>0.12</td>\n",
       "    </tr>\n",
       "  </tbody>\n",
       "</table>\n",
       "</div>"
      ],
      "text/plain": [
       "    D   I  Prob\n",
       "0  d0  i0  0.42\n",
       "1  d0  i1  0.28\n",
       "2  d1  i0  0.18\n",
       "3  d1  i1  0.12"
      ]
     },
     "execution_count": 17,
     "metadata": {},
     "output_type": "execute_result"
    }
   ],
   "source": [
    "ID = IDG.groupby(['D', 'I']).sum().reset_index()\n",
    "ID"
   ]
  },
  {
   "cell_type": "code",
   "execution_count": 18,
   "metadata": {
    "collapsed": false
   },
   "outputs": [
    {
     "data": {
      "text/html": [
       "<div>\n",
       "<table border=\"1\" class=\"dataframe\">\n",
       "  <thead>\n",
       "    <tr style=\"text-align: right;\">\n",
       "      <th></th>\n",
       "      <th>D</th>\n",
       "      <th>Prob</th>\n",
       "    </tr>\n",
       "  </thead>\n",
       "  <tbody>\n",
       "    <tr>\n",
       "      <th>0</th>\n",
       "      <td>d0</td>\n",
       "      <td>0.7</td>\n",
       "    </tr>\n",
       "    <tr>\n",
       "      <th>1</th>\n",
       "      <td>d1</td>\n",
       "      <td>0.3</td>\n",
       "    </tr>\n",
       "  </tbody>\n",
       "</table>\n",
       "</div>"
      ],
      "text/plain": [
       "    D  Prob\n",
       "0  d0   0.7\n",
       "1  d1   0.3"
      ]
     },
     "execution_count": 18,
     "metadata": {},
     "output_type": "execute_result"
    }
   ],
   "source": [
    "D = ID.groupby(['D']).sum().reset_index()\n",
    "D"
   ]
  },
  {
   "cell_type": "code",
   "execution_count": 19,
   "metadata": {
    "collapsed": false
   },
   "outputs": [
    {
     "data": {
      "text/html": [
       "<div>\n",
       "<table border=\"1\" class=\"dataframe\">\n",
       "  <thead>\n",
       "    <tr style=\"text-align: right;\">\n",
       "      <th></th>\n",
       "      <th>I</th>\n",
       "      <th>Prob</th>\n",
       "    </tr>\n",
       "  </thead>\n",
       "  <tbody>\n",
       "    <tr>\n",
       "      <th>0</th>\n",
       "      <td>i0</td>\n",
       "      <td>0.6</td>\n",
       "    </tr>\n",
       "    <tr>\n",
       "      <th>1</th>\n",
       "      <td>i1</td>\n",
       "      <td>0.4</td>\n",
       "    </tr>\n",
       "  </tbody>\n",
       "</table>\n",
       "</div>"
      ],
      "text/plain": [
       "    I  Prob\n",
       "0  i0   0.6\n",
       "1  i1   0.4"
      ]
     },
     "execution_count": 19,
     "metadata": {},
     "output_type": "execute_result"
    }
   ],
   "source": [
    "I = ID.groupby(['I']).sum().reset_index()\n",
    "I"
   ]
  },
  {
   "cell_type": "markdown",
   "metadata": {},
   "source": [
    "## Conditional Independence"
   ]
  },
  {
   "cell_type": "code",
   "execution_count": null,
   "metadata": {
    "collapsed": true
   },
   "outputs": [],
   "source": []
  }
 ],
 "metadata": {
  "kernelspec": {
   "display_name": "Python 2",
   "language": "python",
   "name": "python2"
  },
  "language_info": {
   "codemirror_mode": {
    "name": "ipython",
    "version": 2
   },
   "file_extension": ".py",
   "mimetype": "text/x-python",
   "name": "python",
   "nbconvert_exporter": "python",
   "pygments_lexer": "ipython2",
   "version": "2.7.11"
  }
 },
 "nbformat": 4,
 "nbformat_minor": 0
}
